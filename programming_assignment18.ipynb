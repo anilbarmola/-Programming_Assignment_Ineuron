{
 "cells": [
  {
   "cell_type": "markdown",
   "metadata": {},
   "source": [
    "<h4 style=\"color:red;\">Assignment_18<h4>"
   ]
  },
  {
   "cell_type": "markdown",
   "metadata": {},
   "source": [
    "<h4>Question 1\n",
    "Create a function that takes a list of non-negative integers and strings and return a new list without the strings.</h4>"
   ]
  },
  {
   "cell_type": "code",
   "execution_count": 8,
   "metadata": {},
   "outputs": [
    {
     "name": "stdout",
     "output_type": "stream",
     "text": [
      "[1, 0, 15]\n"
     ]
    }
   ],
   "source": [
    "filter_list=[1, \"a\",\"b\", 0, 15]\n",
    "out_string=[]\n",
    "for ele in filter_list:\n",
    "        if type(ele) == int and ele >= 0:\n",
    "            out_string.append(ele)\n",
    "print(out_string)"
   ]
  },
  {
   "cell_type": "markdown",
   "metadata": {},
   "source": [
    "<h4>Question 2\n",
    "The &quot;Reverser&quot; takes a string as input and returns that string in reverse order, with the\n",
    "opposite case.</h4>"
   ]
  },
  {
   "cell_type": "code",
   "execution_count": 10,
   "metadata": {},
   "outputs": [
    {
     "name": "stdout",
     "output_type": "stream",
     "text": [
      "NORUENI\n"
     ]
    }
   ],
   "source": [
    "str=\"ineuron\"\n",
    "print(str[::-1].swapcase())"
   ]
  },
  {
   "cell_type": "markdown",
   "metadata": {},
   "source": [
    "<h4>Question 3\n",
    "You can assign variables from lists like this:</h4>\n",
    "<P>lst = [1, 2, 3, 4, 5, 6]<BR>\n",
    "first = lst[0]<BR>\n",
    "middle = lst[1:-1]<BR>\n",
    "last = lst[-1]<BR>\n",
    "print(first) ➞ outputs 1<BR>\n",
    "print(middle) ➞ outputs [2, 3, 4, 5]<BR>\n",
    "print(last) ➞ outputs 6<BR>\n",
    "With Python 3, you can assign variables from lists in a much more succinct way.<BR> Create variables first, middle and last from the given list using destructuring<BR> assignment<BR>\n",
    "(check the Resources tab for some examples), where:<BR>\n",
    "first ➞ 1<BR>\n",
    "middle ➞ [2, 3, 4, 5]<BR>\n",
    "last ➞ 6<BR>\n",
    "Your task is to unpack the list writeyourcodehere into three variables, being first,<BR> middle, and last, with middle being everything in between the first and last element. Then print all three variables."
   ]
  },
  {
   "cell_type": "code",
   "execution_count": 11,
   "metadata": {},
   "outputs": [
    {
     "name": "stdout",
     "output_type": "stream",
     "text": [
      "first ➞ 1\n",
      "middle ➞ [2, 3, 4, 5]\n",
      "last ➞ 6\n"
     ]
    }
   ],
   "source": [
    "first, *middle, last = [1,2,3,4,5,6]\n",
    "print(f'first ➞ {first}')\n",
    "print(f'middle ➞ {middle}')\n",
    "print(f'last ➞ {last}')"
   ]
  },
  {
   "cell_type": "markdown",
   "metadata": {},
   "source": [
    "<h4>Question 4\n",
    "Write a function that calculates the factorial of a number recursively.</h4>"
   ]
  },
  {
   "cell_type": "code",
   "execution_count": 17,
   "metadata": {},
   "outputs": [
    {
     "name": "stdout",
     "output_type": "stream",
     "text": [
      "The factorial of 5 is 120\n",
      "The factorial of 6 is 720\n",
      "The factorial of 7 is 5040\n",
      "The factorial of 8 is 40320\n"
     ]
    }
   ],
   "source": [
    "def factorial(num):\n",
    "    factorial = 1   \n",
    "    for i in range(1,num + 1):\n",
    "       factorial = factorial*i\n",
    "    print(\"The factorial of\",num,\"is\",factorial)\n",
    "\n",
    "factorial(5)\n",
    "factorial(6)\n",
    "factorial(7)\n",
    "factorial(8)\n"
   ]
  },
  {
   "cell_type": "markdown",
   "metadata": {},
   "source": [
    "<h4>Question 5\n",
    "Write a function that moves all elements of one type to the end of the list.</h4>"
   ]
  },
  {
   "cell_type": "markdown",
   "metadata": {},
   "source": [
    "<h4></h4>"
   ]
  }
 ],
 "metadata": {
  "kernelspec": {
   "display_name": "Python 3.10.4 64-bit",
   "language": "python",
   "name": "python3"
  },
  "language_info": {
   "codemirror_mode": {
    "name": "ipython",
    "version": 3
   },
   "file_extension": ".py",
   "mimetype": "text/x-python",
   "name": "python",
   "nbconvert_exporter": "python",
   "pygments_lexer": "ipython3",
   "version": "3.10.4"
  },
  "orig_nbformat": 4,
  "vscode": {
   "interpreter": {
    "hash": "26de051ba29f2982a8de78e945f0abaf191376122a1563185a90213a26c5da77"
   }
  }
 },
 "nbformat": 4,
 "nbformat_minor": 2
}
