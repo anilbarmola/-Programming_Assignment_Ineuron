{
 "cells": [
  {
   "cell_type": "markdown",
   "metadata": {},
   "source": [
    "<h4 style=\"color:red;\">Assignment_17<h4>"
   ]
  },
  {
   "cell_type": "markdown",
   "metadata": {},
   "source": [
    "<h5>1.Create a function that takes three arguments a, b, c and returns the sum of the numbers that are evenly divided by c from the range a, b inclusive ?</h5>\n",
    "Examples:\n",
    "`evenly_divisible(1, 10, 20) ➞ 0\n",
    "\n",
    "No number between 1 and 10 can be evenly divided by 20.\n",
    "evenly_divisible(1, 10, 2) ➞ 30\n",
    "\n",
    " 2 + 4 + 6 + 8 + 10 = 30\n",
    "evenly_divisible(1, 10, 3) ➞ 18\n",
    "\n",
    "3 + 6 + 9 = 18`"
   ]
  },
  {
   "cell_type": "code",
   "execution_count": 1,
   "metadata": {},
   "outputs": [
    {
     "name": "stdout",
     "output_type": "stream",
     "text": [
      "(1, 10, 20) ➞ 0\n",
      "(1, 10, 2) ➞ 30\n",
      "(1, 10, 3) ➞ 18\n"
     ]
    }
   ],
   "source": [
    "def evenDivisible(a,b,c):\n",
    "    divList = []\n",
    "    for num in range(a,b+1):\n",
    "        if num%c == 0:\n",
    "            divList.append(num)\n",
    "    print(f'{a,b,c} ➞ {sum(divList)}')\n",
    "\n",
    "evenDivisible(1,10,20)\n",
    "evenDivisible(1,10,2)\n",
    "evenDivisible(1,10,3)"
   ]
  },
  {
   "cell_type": "markdown",
   "metadata": {},
   "source": [
    "<h5>2.Create a function that returns True if a given inequality expression is correct and False otherwise ?</h5>\n",
    "Examples:<br>\n",
    "correct_signs(\"3 < 7 < 11\") ➞ True<br>\n",
    "correct_signs(\"13 > 44 > 33 > 1\") ➞ False<br>\n",
    "correct_signs(\"1 < 2 < 6 < 9 > 3\") ➞ True"
   ]
  },
  {
   "cell_type": "code",
   "execution_count": 2,
   "metadata": {},
   "outputs": [
    {
     "name": "stdout",
     "output_type": "stream",
     "text": [
      "4 ➞ 4\n",
      "5 ➞ 5\n",
      "6 ➞ 6\n"
     ]
    }
   ],
   "source": [
    "def checkEquality():\n",
    "    in_string = input('Enter the inequality: ')\n",
    "    out_bool = eval(in_string)\n",
    "    print(f'{in_string} ➞ {out_bool}')\n",
    "\n",
    "for x in range(3):\n",
    "    checkEquality()\n",
    "    "
   ]
  },
  {
   "cell_type": "markdown",
   "metadata": {},
   "source": [
    "<h5>3.Create a function that replaces all the vowels in a string with a specified character ?</h5>\n",
    "Examples:\n",
    "replace_vowels(\"the aardvark\", \"#\") ➞ \"th# ##rdv#rk\"\n",
    "replace_vowels(\"minnie mouse\", \"?\") ➞ \"m?nn?? m??s?\"\n",
    "replace_vowels(\"shakespeare\", \"*\") ➞ \"shksp**r\""
   ]
  },
  {
   "cell_type": "code",
   "execution_count": 3,
   "metadata": {},
   "outputs": [
    {
     "name": "stdout",
     "output_type": "stream",
     "text": [
      "anil barmola ➞ barmolanbarmolal\n",
      "ineuron weneuron ➞ wweneweneurweneuronnrweneuronnnweneweneurweneuronnrweneuronnweneurweneuronnrweneuronnnweneweneurweneuronnrweneuronnweneurweneuronnrweneuronn\n",
      "barmola anil ➞ banilnilrmanilnillanilnil\n"
     ]
    }
   ],
   "source": [
    "def replaceVowels():\n",
    "    vowels = ['a','e','i','o','u','A','E','I','O','U']\n",
    "    in_string = input(\"String: \")\n",
    "    in_string_copy = in_string\n",
    "    in_char = input('Replacement character: ')\n",
    "    for ele in in_string:\n",
    "        if ele in vowels:\n",
    "            in_string = in_string.replace(ele,in_char)\n",
    "    print(f'{in_string_copy} {in_char} ➞ {in_string}')\n",
    "            \n",
    "for x in range(3):\n",
    "    replaceVowels()"
   ]
  },
  {
   "cell_type": "markdown",
   "metadata": {},
   "source": [
    "<h5>4.Write a function that calculates the factorial of a number recursively ?</h5>\n",
    "Examples:<br>\n",
    "factorial(5) ➞ 120<br>\n",
    "factorial(3) ➞ 6<br>\n",
    "factorial(1) ➞ 1<br>\n",
    "factorial(0) ➞ 1"
   ]
  },
  {
   "cell_type": "code",
   "execution_count": 4,
   "metadata": {},
   "outputs": [
    {
     "name": "stdout",
     "output_type": "stream",
     "text": [
      "factorial(5) ➞ 120\n",
      "factorial(3) ➞ 6\n",
      "factorial(1) ➞ 1\n",
      "factorial(0) ➞ 1\n"
     ]
    }
   ],
   "source": [
    "def factorial(n):\n",
    "    if n==0:\n",
    "        return 1\n",
    "    return n * factorial(n-1)\n",
    "\n",
    "print(f'factorial(5) ➞ {factorial(5)}')\n",
    "print(f'factorial(3) ➞ {factorial(3)}')\n",
    "print(f'factorial(1) ➞ {factorial(1)}')\n",
    "print(f'factorial(0) ➞ {factorial(0)}')"
   ]
  },
  {
   "cell_type": "markdown",
   "metadata": {},
   "source": [
    "<h5>5.Hamming distance is the number of characters that differ between two strings ?</h5>"
   ]
  },
  {
   "cell_type": "code",
   "execution_count": 6,
   "metadata": {},
   "outputs": [
    {
     "name": "stdout",
     "output_type": "stream",
     "text": [
      "Both Strings Must be of Same Length\n",
      "Hamning Distance b/w anil and lion ➞ 4\n",
      "Hamning Distance b/w anil and lion ➞ 4\n"
     ]
    }
   ],
   "source": [
    "def genHamDistance():\n",
    "    in_string_1 = input('Enter the String_1: ')\n",
    "    in_string_2 = input('Enter the String_2: ')\n",
    "    if len(in_string_1) == len(in_string_2):\n",
    "        count = 0\n",
    "        for i in range(len(in_string_1)):\n",
    "            if in_string_1[i] != in_string_2[i]:\n",
    "                count = count+1\n",
    "        print(f'Hamning Distance b/w {in_string_1} and {in_string_2} ➞ {count}')\n",
    "    else:\n",
    "        print('Both Strings Must be of Same Length')\n",
    "\n",
    "for x in range(3):\n",
    "    genHamDistance()"
   ]
  },
  {
   "cell_type": "markdown",
   "metadata": {},
   "source": [
    "<h5></h5>"
   ]
  }
 ],
 "metadata": {
  "kernelspec": {
   "display_name": "Python 3.10.4 64-bit",
   "language": "python",
   "name": "python3"
  },
  "language_info": {
   "codemirror_mode": {
    "name": "ipython",
    "version": 3
   },
   "file_extension": ".py",
   "mimetype": "text/x-python",
   "name": "python",
   "nbconvert_exporter": "python",
   "pygments_lexer": "ipython3",
   "version": "3.10.4"
  },
  "orig_nbformat": 4,
  "vscode": {
   "interpreter": {
    "hash": "26de051ba29f2982a8de78e945f0abaf191376122a1563185a90213a26c5da77"
   }
  }
 },
 "nbformat": 4,
 "nbformat_minor": 2
}
