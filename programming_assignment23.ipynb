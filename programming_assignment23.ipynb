{
 "cells": [
  {
   "cell_type": "markdown",
   "metadata": {},
   "source": [
    "<h4 style=\"color:red;\">Assignment_23<h4>"
   ]
  },
  {
   "cell_type": "markdown",
   "metadata": {},
   "source": [
    "Question 1<br>\n",
    "Create a function that takes a number as an argument and returns True or False depending<br>\n",
    "on whether the number is symmetrical or not. A number is symmetrical when it is the same as<br>\n",
    "its reverse.<br>\n",
    "Examples<br>\n",
    "is_symmetrical(7227) ➞ True<br>\n",
    "is_symmetrical(12567) ➞ False<br>\n",
    "is_symmetrical(44444444) ➞ True<br>\n",
    "is_symmetrical(9939) ➞ False<br>\n",
    "is_symmetrical(1112111) ➞ True"
   ]
  },
  {
   "cell_type": "code",
   "execution_count": 13,
   "metadata": {},
   "outputs": [
    {
     "name": "stdout",
     "output_type": "stream",
     "text": [
      "True\n"
     ]
    }
   ],
   "source": [
    "in_num=7227\n",
    "if str(in_num) == str(in_num)[::-1]:\n",
    "    print(True)\n",
    "else:\n",
    "    print(\"False\")"
   ]
  },
  {
   "cell_type": "markdown",
   "metadata": {},
   "source": [
    "2.Given a string of numbers separated by a comma and space, return the product of the numbers.<br>\n",
    "Examples:<br>\n",
    "multiply_nums(\"2, 3\") ➞ 6<br>\n",
    "multiply_nums(\"1, 2, 3, 4\") ➞ 24<br>\n",
    "multiply_nums(\"54, 75, 453, 0\") ➞ 0<br>\n",
    "multiply_nums(\"10, -2\") ➞ -20<br>"
   ]
  },
  {
   "cell_type": "code",
   "execution_count": 17,
   "metadata": {},
   "outputs": [
    {
     "name": "stdout",
     "output_type": "stream",
     "text": [
      "24\n"
     ]
    }
   ],
   "source": [
    "mult=1\n",
    "lst=[1,2,3,4]\n",
    "for ele in lst:\n",
    "    mult=mult*ele\n",
    "    \n",
    "print(mult)"
   ]
  },
  {
   "cell_type": "markdown",
   "metadata": {},
   "source": [
    "3.Create a function that squares every digit of a number.<br>\n",
    "Examples:<br>\n",
    "square_digits(9119) ➞ 811181<br>\n",
    "square_digits(2483) ➞ 416649<br>\n",
    "square_digits(3212) ➞ 9414<br>\n",
    "\n",
    "Notes:\n",
    "The function receives an integer and must return an integer."
   ]
  },
  {
   "cell_type": "code",
   "execution_count": 18,
   "metadata": {},
   "outputs": [
    {
     "name": "stdout",
     "output_type": "stream",
     "text": [
      "9119 ➞ 811181\n",
      "2483 ➞ 416649\n",
      "3212 ➞ 9414\n"
     ]
    }
   ],
   "source": [
    "def square_digits(in_num):\n",
    "    in_list = [str(int(ele)**2) for ele in str(in_num)]\n",
    "    out_list = ''.join(in_list)\n",
    "    print(f'{in_num} ➞ {int(out_list)}')\n",
    "\n",
    "square_digits(9119)\n",
    "square_digits(2483)\n",
    "square_digits(3212)"
   ]
  },
  {
   "cell_type": "markdown",
   "metadata": {},
   "source": [
    "4.Create a function that sorts a list and removes all duplicate items from it.<br>\n",
    "Examples:<br>\n",
    "setify([1, 3, 3, 5, 5]) ➞ [1, 3, 5]<br>\n",
    "setify([4, 4, 4, 4]) ➞ [4]<br>\n",
    "setify([5, 7, 8, 9, 10, 15]) ➞ [5, 7, 8, 9, 10, 15]<br>\n",
    "setify([3, 3, 3, 2, 1]) ➞ [1, 2, 3]"
   ]
  },
  {
   "cell_type": "code",
   "execution_count": 19,
   "metadata": {},
   "outputs": [
    {
     "name": "stdout",
     "output_type": "stream",
     "text": [
      "{1, 2, 3, 4, 5, 6}\n"
     ]
    }
   ],
   "source": [
    "lst=[1,1,2,4,5,1,2,2,3,6,]\n",
    "print(set(lst))"
   ]
  },
  {
   "cell_type": "markdown",
   "metadata": {},
   "source": [
    "5.Create a function that returns the mean of all digits.<br>\n",
    "Examples:<br>\n",
    "mean(42) ➞ 3<br>\n",
    "mean(12345) ➞ 3<br>\n",
    "mean(666) ➞ 6<br>\n",
    "\n",
    "Notes:<br>\n",
    "1.The mean of all digits is the sum of digits / how many digits there are (e.g. mean of digits in 512 is (5+1+2)/3(number of digits) = 8/3=2).\n",
    "2.The mean will always be an integer."
   ]
  },
  {
   "cell_type": "code",
   "execution_count": 27,
   "metadata": {},
   "outputs": [
    {
     "name": "stdout",
     "output_type": "stream",
     "text": [
      "2.0\n",
      "3.0\n",
      "6.0\n"
     ]
    }
   ],
   "source": [
    "def get_mean(num):\n",
    "    u=0\n",
    "    for ele in str(num):\n",
    "        u=u+int(ele)\n",
    "    mean=u/len(str(num))\n",
    "    print(mean)\n",
    "\n",
    "get_mean(123)\n",
    "get_mean(12345)\n",
    "get_mean(666)"
   ]
  },
  {
   "cell_type": "markdown",
   "metadata": {},
   "source": []
  },
  {
   "cell_type": "markdown",
   "metadata": {},
   "source": []
  }
 ],
 "metadata": {
  "kernelspec": {
   "display_name": "Python 3.10.4 64-bit",
   "language": "python",
   "name": "python3"
  },
  "language_info": {
   "codemirror_mode": {
    "name": "ipython",
    "version": 3
   },
   "file_extension": ".py",
   "mimetype": "text/x-python",
   "name": "python",
   "nbconvert_exporter": "python",
   "pygments_lexer": "ipython3",
   "version": "3.10.4"
  },
  "orig_nbformat": 4,
  "vscode": {
   "interpreter": {
    "hash": "26de051ba29f2982a8de78e945f0abaf191376122a1563185a90213a26c5da77"
   }
  }
 },
 "nbformat": 4,
 "nbformat_minor": 2
}
