{
 "cells": [
  {
   "cell_type": "markdown",
   "metadata": {},
   "source": [
    "<h4 style=\"color:red;\">Assignment_10<h4>"
   ]
  },
  {
   "cell_type": "markdown",
   "metadata": {},
   "source": [
    "<h4>1. Write a Python program to find sum of elements in list?</h4>"
   ]
  },
  {
   "cell_type": "code",
   "execution_count": 3,
   "metadata": {},
   "outputs": [
    {
     "name": "stdout",
     "output_type": "stream",
     "text": [
      "Sum of Elements: 12\n",
      "[1, 2, 2, 1, 4, 2]\n"
     ]
    }
   ],
   "source": [
    "def sumofList():\n",
    "    in_ele = int(input('Enter the No of Entries in a List: '))\n",
    "    in_list = []\n",
    "    for itr in range(in_ele):\n",
    "        in_list.append(int(input('Enter a element: ')))\n",
    "    print(f'Sum of Elements: {sum(in_list)}')\n",
    "\n",
    "    print(in_list)\n",
    "sumofList()"
   ]
  },
  {
   "cell_type": "markdown",
   "metadata": {},
   "source": [
    "<h4>2. Write a Python program to Multiply all numbers in the list?</h4>"
   ]
  },
  {
   "cell_type": "code",
   "execution_count": 5,
   "metadata": {},
   "outputs": [
    {
     "name": "stdout",
     "output_type": "stream",
     "text": [
      "120\n",
      "[2, 3, 4, 5]\n"
     ]
    }
   ],
   "source": [
    "def mulofList():\n",
    "    in_ele = int(input('Enter the No of Entries in a List: '))\n",
    "    in_list = []\n",
    "    mul = 1\n",
    "    for itr in range(in_ele):\n",
    "        in_list.append(int(input('Enter a element: ')))\n",
    "    for ele in in_list:\n",
    "        mul = mul * ele\n",
    "    print(mul)\n",
    "    print(in_list)\n",
    "mulofList()\n"
   ]
  },
  {
   "cell_type": "markdown",
   "metadata": {},
   "source": [
    "<h4>3. Write a Python program to find smallest number in a list?</h4>"
   ]
  },
  {
   "cell_type": "code",
   "execution_count": 6,
   "metadata": {},
   "outputs": [
    {
     "name": "stdout",
     "output_type": "stream",
     "text": [
      "The Smallest Element in [1, 2, 3, 4, 5] is 1\n"
     ]
    }
   ],
   "source": [
    "def smallEleInList():\n",
    "    in_ele = int(input('Enter the No of elements in a list: '))\n",
    "    in_list = []\n",
    "    for ele in range(in_ele):\n",
    "        in_list.append(int(input('Enter a Element: ')))\n",
    "    print(f'The Smallest Element in {in_list} is {sorted(in_list)[0]}')\n",
    "smallEleInList()"
   ]
  },
  {
   "cell_type": "markdown",
   "metadata": {},
   "source": [
    "<h4>4. Write a Python program to find largest number in a list?</h4>"
   ]
  },
  {
   "cell_type": "code",
   "execution_count": 10,
   "metadata": {},
   "outputs": [
    {
     "name": "stdout",
     "output_type": "stream",
     "text": [
      "The largest Element in [1, 2, 3, 4, 5] is 5\n"
     ]
    }
   ],
   "source": [
    "def largest():\n",
    "    in_ele = int(input('Enter the No of elements in a list: '))\n",
    "    in_list = []\n",
    "    for ele in range(in_ele):\n",
    "        in_list.append(int(input('Enter a Element: ')))\n",
    "    print(f'The largest Element in {in_list} is {max(in_list)}')\n",
    "largest()"
   ]
  },
  {
   "cell_type": "markdown",
   "metadata": {},
   "source": [
    "<h4>5. Write a Python program to find second largest number in a list?</h4>"
   ]
  },
  {
   "cell_type": "code",
   "execution_count": 11,
   "metadata": {},
   "outputs": [
    {
     "name": "stdout",
     "output_type": "stream",
     "text": [
      "The Second Largest Element in [1, 1, 2, 3, 4] is 3\n"
     ]
    }
   ],
   "source": [
    "def secondLargestEleInList():\n",
    "    in_ele = int(input('Enter the No of elements in a list: '))\n",
    "    in_list = []\n",
    "    for ele in range(in_ele):\n",
    "        in_list.append(int(input('Enter a Element: ')))\n",
    "    print(f'The Second Largest Element in {in_list} is {sorted(in_list, reverse=True)[1]}')\n",
    "\n",
    "secondLargestEleInList()"
   ]
  },
  {
   "cell_type": "markdown",
   "metadata": {},
   "source": [
    "<h4>6. Write a Python program to find N largest elements from a list?</h4>"
   ]
  },
  {
   "cell_type": "code",
   "execution_count": 12,
   "metadata": {},
   "outputs": [
    {
     "name": "stdout",
     "output_type": "stream",
     "text": [
      "The 4 Largest Element in [1, 2, 3, 66, 54] is [66, 54, 3, 2]\n"
     ]
    }
   ],
   "source": [
    "def nLargestEleInList(k):\n",
    "    in_ele = int(input('Enter the No of elements in a list: '))\n",
    "    in_list = []\n",
    "    for ele in range(in_ele):\n",
    "        in_list.append(int(input('Enter a Element: ')))\n",
    "    print(f'The {k} Largest Element in {in_list} is {sorted(in_list, reverse=True)[0:k]}')\n",
    "\n",
    "nLargestEleInList(4)"
   ]
  },
  {
   "cell_type": "markdown",
   "metadata": {},
   "source": [
    "<h4>7. Write a Python program to print even numbers in a list?</h4>"
   ]
  },
  {
   "cell_type": "code",
   "execution_count": 25,
   "metadata": {},
   "outputs": [
    {
     "name": "stdout",
     "output_type": "stream",
     "text": [
      "2\n",
      "4\n",
      "6\n",
      "8\n"
     ]
    }
   ],
   "source": [
    "def even():\n",
    "    l=[1,2,3,4,5,6,7,8,9]\n",
    "    for i in l:\n",
    "        if i%2==0:\n",
    "         print(i)\n",
    "even()"
   ]
  },
  {
   "cell_type": "markdown",
   "metadata": {},
   "source": [
    "<h4>8. Write a Python program to print odd numbers in a List?</h4>"
   ]
  },
  {
   "cell_type": "code",
   "execution_count": 26,
   "metadata": {},
   "outputs": [
    {
     "name": "stdout",
     "output_type": "stream",
     "text": [
      "1\n",
      "3\n",
      "5\n",
      "7\n",
      "9\n"
     ]
    }
   ],
   "source": [
    "def odd():\n",
    "    l=[1,2,3,4,5,6,7,8,9]\n",
    "    for i in l:\n",
    "        if i%2 !=0:\n",
    "         print(i)\n",
    "odd()"
   ]
  },
  {
   "cell_type": "markdown",
   "metadata": {},
   "source": [
    "<h4>9. Write a Python program to Remove empty List from List?</h4>"
   ]
  },
  {
   "cell_type": "code",
   "execution_count": 28,
   "metadata": {},
   "outputs": [
    {
     "name": "stdout",
     "output_type": "stream",
     "text": [
      "The original list : [1, 2, 3, 4, 5, [], 6, 7, 8, 9]\n",
      "After remove empty list : [1, 2, 3, 4, 5, 6, 7, 8, 9]\n"
     ]
    },
    {
     "ename": "ValueError",
     "evalue": "[] is not in list",
     "output_type": "error",
     "traceback": [
      "\u001b[1;31m---------------------------------------------------------------------------\u001b[0m",
      "\u001b[1;31mValueError\u001b[0m                                Traceback (most recent call last)",
      "\u001b[1;32mc:\\Users\\anil\\OneDrive\\online course\\python\\Data science with Ineuron\\programming_assignment\\programming_assignment\\programming_assignment10.ipynb Cell 19'\u001b[0m in \u001b[0;36m<cell line: 3>\u001b[1;34m()\u001b[0m\n\u001b[0;32m      <a href='vscode-notebook-cell:/c%3A/Users/anil/OneDrive/online%20course/python/Data%20science%20with%20Ineuron/programming_assignment/programming_assignment/programming_assignment10.ipynb#ch0000024?line=1'>2</a>\u001b[0m \u001b[39mprint\u001b[39m(\u001b[39m\"\u001b[39m\u001b[39mThe original list :\u001b[39m\u001b[39m\"\u001b[39m,l1)\n\u001b[0;32m      <a href='vscode-notebook-cell:/c%3A/Users/anil/OneDrive/online%20course/python/Data%20science%20with%20Ineuron/programming_assignment/programming_assignment/programming_assignment10.ipynb#ch0000024?line=2'>3</a>\u001b[0m \u001b[39mfor\u001b[39;00m i \u001b[39min\u001b[39;00m l1:\n\u001b[1;32m----> <a href='vscode-notebook-cell:/c%3A/Users/anil/OneDrive/online%20course/python/Data%20science%20with%20Ineuron/programming_assignment/programming_assignment/programming_assignment10.ipynb#ch0000024?line=3'>4</a>\u001b[0m     \u001b[39mif\u001b[39;00m l1\u001b[39m.\u001b[39;49mindex([]):\n\u001b[0;32m      <a href='vscode-notebook-cell:/c%3A/Users/anil/OneDrive/online%20course/python/Data%20science%20with%20Ineuron/programming_assignment/programming_assignment/programming_assignment10.ipynb#ch0000024?line=4'>5</a>\u001b[0m         l1\u001b[39m.\u001b[39mremove([])\n\u001b[0;32m      <a href='vscode-notebook-cell:/c%3A/Users/anil/OneDrive/online%20course/python/Data%20science%20with%20Ineuron/programming_assignment/programming_assignment/programming_assignment10.ipynb#ch0000024?line=5'>6</a>\u001b[0m         \u001b[39mprint\u001b[39m(\u001b[39m\"\u001b[39m\u001b[39mAfter remove empty list :\u001b[39m\u001b[39m\"\u001b[39m,l1)\n",
      "\u001b[1;31mValueError\u001b[0m: [] is not in list"
     ]
    }
   ],
   "source": [
    "l1=[1,2,3,4,5,[],6,7,8,9]\n",
    "print(\"The original list :\",l1)\n",
    "for i in l1:\n",
    "    if l1.index([]):\n",
    "        l1.remove([])\n",
    "        print(\"After remove empty list :\",l1)"
   ]
  },
  {
   "cell_type": "markdown",
   "metadata": {},
   "source": [
    "<h4>10. Write a Python program to Cloning or Copying a list?</h4>"
   ]
  },
  {
   "cell_type": "code",
   "execution_count": 31,
   "metadata": {},
   "outputs": [
    {
     "name": "stdout",
     "output_type": "stream",
     "text": [
      "[1, 2, 3, 4, 5, 6, 7, 8, 9, 0] 2039779540800\n",
      "[1, 2, 3, 4, 5, 6, 7, 8, 9, 0] 2039779536384\n"
     ]
    }
   ],
   "source": [
    "import copy\n",
    "\n",
    "def cloneList():\n",
    "    in_list = [1,2,3,4,5,6,7,8,9,0]\n",
    "    print(in_list, id(in_list))\n",
    "    cloned_list = in_list.copy()\n",
    "    print(cloned_list, id(cloned_list))\n",
    "\n",
    "cloneList()"
   ]
  },
  {
   "cell_type": "markdown",
   "metadata": {},
   "source": [
    "<h4>11. Write a Python program to Count occurrences of an element in a list?</h4>"
   ]
  },
  {
   "cell_type": "code",
   "execution_count": 35,
   "metadata": {},
   "outputs": [
    {
     "ename": "TypeError",
     "evalue": "argument of type 'int' is not iterable",
     "output_type": "error",
     "traceback": [
      "\u001b[1;31m---------------------------------------------------------------------------\u001b[0m",
      "\u001b[1;31mTypeError\u001b[0m                                 Traceback (most recent call last)",
      "\u001b[1;32mc:\\Users\\anil\\OneDrive\\online course\\python\\Data science with Ineuron\\programming_assignment\\programming_assignment\\programming_assignment10.ipynb Cell 23'\u001b[0m in \u001b[0;36m<cell line: 11>\u001b[1;34m()\u001b[0m\n\u001b[0;32m      <a href='vscode-notebook-cell:/c%3A/Users/anil/OneDrive/online%20course/python/Data%20science%20with%20Ineuron/programming_assignment/programming_assignment/programming_assignment10.ipynb#ch0000026?line=7'>8</a>\u001b[0m                 count \u001b[39m=\u001b[39m count\u001b[39m+\u001b[39m\u001b[39m1\u001b[39m\n\u001b[0;32m      <a href='vscode-notebook-cell:/c%3A/Users/anil/OneDrive/online%20course/python/Data%20science%20with%20Ineuron/programming_assignment/programming_assignment/programming_assignment10.ipynb#ch0000026?line=8'>9</a>\u001b[0m     \u001b[39mprint\u001b[39m(\u001b[39mf\u001b[39m\u001b[39m'\u001b[39m\u001b[39mThere are \u001b[39m\u001b[39m{\u001b[39;00mcount\u001b[39m}\u001b[39;00m\u001b[39m occurences of \u001b[39m\u001b[39m{\u001b[39;00min_num\u001b[39m}\u001b[39;00m\u001b[39m in \u001b[39m\u001b[39m{\u001b[39;00min_list\u001b[39m}\u001b[39;00m\u001b[39m'\u001b[39m)\n\u001b[1;32m---> <a href='vscode-notebook-cell:/c%3A/Users/anil/OneDrive/online%20course/python/Data%20science%20with%20Ineuron/programming_assignment/programming_assignment/programming_assignment10.ipynb#ch0000026?line=10'>11</a>\u001b[0m checkOccurence()\n",
      "\u001b[1;32mc:\\Users\\anil\\OneDrive\\online course\\python\\Data science with Ineuron\\programming_assignment\\programming_assignment\\programming_assignment10.ipynb Cell 23'\u001b[0m in \u001b[0;36mcheckOccurence\u001b[1;34m()\u001b[0m\n\u001b[0;32m      <a href='vscode-notebook-cell:/c%3A/Users/anil/OneDrive/online%20course/python/Data%20science%20with%20Ineuron/programming_assignment/programming_assignment/programming_assignment10.ipynb#ch0000026?line=2'>3</a>\u001b[0m in_num \u001b[39m=\u001b[39m \u001b[39meval\u001b[39m(\u001b[39minput\u001b[39m(\u001b[39m'\u001b[39m\u001b[39mEnter the element to find: \u001b[39m\u001b[39m'\u001b[39m))\n\u001b[0;32m      <a href='vscode-notebook-cell:/c%3A/Users/anil/OneDrive/online%20course/python/Data%20science%20with%20Ineuron/programming_assignment/programming_assignment/programming_assignment10.ipynb#ch0000026?line=3'>4</a>\u001b[0m count \u001b[39m=\u001b[39m \u001b[39m0\u001b[39m\n\u001b[1;32m----> <a href='vscode-notebook-cell:/c%3A/Users/anil/OneDrive/online%20course/python/Data%20science%20with%20Ineuron/programming_assignment/programming_assignment/programming_assignment10.ipynb#ch0000026?line=4'>5</a>\u001b[0m \u001b[39mif\u001b[39;00m in_num \u001b[39min\u001b[39;49;00m in_list:\n\u001b[0;32m      <a href='vscode-notebook-cell:/c%3A/Users/anil/OneDrive/online%20course/python/Data%20science%20with%20Ineuron/programming_assignment/programming_assignment/programming_assignment10.ipynb#ch0000026?line=5'>6</a>\u001b[0m     \u001b[39mfor\u001b[39;00m ele \u001b[39min\u001b[39;00m in_list:\n\u001b[0;32m      <a href='vscode-notebook-cell:/c%3A/Users/anil/OneDrive/online%20course/python/Data%20science%20with%20Ineuron/programming_assignment/programming_assignment/programming_assignment10.ipynb#ch0000026?line=6'>7</a>\u001b[0m         \u001b[39mif\u001b[39;00m ele \u001b[39m==\u001b[39m in_num:\n",
      "\u001b[1;31mTypeError\u001b[0m: argument of type 'int' is not iterable"
     ]
    }
   ],
   "source": [
    "def checkOccurence():\n",
    "    in_list = eval(input('Enter the elements of the list: '))\n",
    "    in_num = eval(input('Enter the element to find: '))\n",
    "    count = 0\n",
    "    if in_num in in_list:\n",
    "        for ele in in_list:\n",
    "            if ele == in_num:\n",
    "                count = count+1\n",
    "    print(f'There are {count} occurences of {in_num} in {in_list}')\n",
    "    \n",
    "checkOccurence()"
   ]
  },
  {
   "cell_type": "code",
   "execution_count": null,
   "metadata": {},
   "outputs": [],
   "source": []
  }
 ],
 "metadata": {
  "kernelspec": {
   "display_name": "Python 3.10.4 64-bit",
   "language": "python",
   "name": "python3"
  },
  "language_info": {
   "codemirror_mode": {
    "name": "ipython",
    "version": 3
   },
   "file_extension": ".py",
   "mimetype": "text/x-python",
   "name": "python",
   "nbconvert_exporter": "python",
   "pygments_lexer": "ipython3",
   "version": "3.10.4"
  },
  "orig_nbformat": 4,
  "vscode": {
   "interpreter": {
    "hash": "26de051ba29f2982a8de78e945f0abaf191376122a1563185a90213a26c5da77"
   }
  }
 },
 "nbformat": 4,
 "nbformat_minor": 2
}
