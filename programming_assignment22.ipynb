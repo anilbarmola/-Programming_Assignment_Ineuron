{
 "cells": [
  {
   "cell_type": "markdown",
   "metadata": {},
   "source": [
    "<h4 style=\"color:red;\">Assignment_22<h4>"
   ]
  },
  {
   "cell_type": "markdown",
   "metadata": {},
   "source": [
    "Question1<br>\n",
    "Create a function that takes three parameters where:<br>\n",
    " x is the start of the range (inclusive).<br>\n",
    " y is the end of the range (inclusive).<br>\n",
    " n is the divisor to be checked against.<br>\n",
    "Return an ordered list with numbers in the range that are divisible by the third parameter n.<br>\n",
    "Return an empty list if there are no numbers that are divisible by n.<br>\n",
    "Examples<br>\n",
    "list_operation(1, 10, 3) ➞ [3, 6, 9]<br>\n",
    "list_operation(7, 9, 2) ➞ [8]<br>\n",
    "list_operation(15, 20, 7) ➞ []<br>"
   ]
  },
  {
   "cell_type": "code",
   "execution_count": 14,
   "metadata": {},
   "outputs": [
    {
     "name": "stdout",
     "output_type": "stream",
     "text": [
      "[2, 5, 8]\n",
      "[8]\n",
      "[]\n"
     ]
    }
   ],
   "source": [
    "list_operation=[1,2,3,4,5,6,7,8,9,10]\n",
    "print(list_operation[1:10:3])\n",
    "print(list_operation[7:9:2])\n",
    "print(list_operation[15:20:7])\n"
   ]
  },
  {
   "cell_type": "markdown",
   "metadata": {},
   "source": [
    "Question2<br>\n",
    "Create a function that takes in two lists and returns True if the second list follows the first list<br>\n",
    "by one element, and False otherwise. In other words, determine if the second list is the first<br>\n",
    "list shifted to the right by 1.<br>\n",
    "Examples<br>\n",
    "simon_says([1, 2], [5, 1]) ➞ True<br>\n",
    "simon_says([1, 2], [5, 5]) ➞ False<br>\n",
    "simon_says([1, 2, 3, 4, 5], [0, 1, 2, 3, 4]) ➞ True<br>\n",
    "simon_says([1, 2, 3, 4, 5], [5, 5, 1, 2, 3]) ➞ False<br>"
   ]
  },
  {
   "cell_type": "code",
   "execution_count": 15,
   "metadata": {},
   "outputs": [
    {
     "name": "stdout",
     "output_type": "stream",
     "text": [
      "([1, 2], [5, 1]) ➞ True\n",
      "([1, 2], [5, 5]) ➞ False\n",
      "([1, 2, 3, 4, 5], [0, 1, 2, 3, 4]) ➞ True\n",
      "([1, 2, 3, 4, 5], [5, 5, 1, 2, 3]) ➞ False\n"
     ]
    }
   ],
   "source": [
    "def simon_says(in_list_1,in_list_2):\n",
    "    if len(in_list_1) == len(in_list_1) and len(in_list_1) >=2 and len(in_list_1) >=2:\n",
    "        if(in_list_1[:-1] == in_list_2[1:]):\n",
    "            print(f'{in_list_1,in_list_2} ➞ {True}')\n",
    "        else:\n",
    "            print(f'{in_list_1,in_list_2} ➞ {False}')\n",
    "            \n",
    "simon_says([1, 2], [5, 1])\n",
    "simon_says([1, 2], [5, 5])\n",
    "simon_says([1, 2, 3, 4, 5], [0, 1, 2, 3, 4])\n",
    "simon_says([1, 2, 3, 4, 5], [5, 5, 1, 2, 3])"
   ]
  },
  {
   "cell_type": "markdown",
   "metadata": {},
   "source": [
    "Question3<br>\n",
    "A group of friends have decided to start a secret society. The name will be the first letter of<br>\n",
    "each of their names, sorted in alphabetical order.<br>\n",
    "Create a function that takes in a list of names and returns the name of the secret society.<br>\n",
    "Examples:<br>\n",
    "society_name([\"Adam\", \"Sarah\", \"Malcolm\"]) ➞ \"AMS\"<br>\n",
    "society_name([\"Harry\", \"Newt\", \"Luna\", \"Cho\"]) ➞ \"CHLN\"<br>\n",
    "society_name([\"Phoebe\", \"Chandler\", \"Rachel\", \"Ross\", \"Monica\", \"Joey\"])"
   ]
  },
  {
   "cell_type": "code",
   "execution_count": 22,
   "metadata": {},
   "outputs": [
    {
     "name": "stdout",
     "output_type": "stream",
     "text": [
      "['a', 'b', 'd', 'i']\n",
      "abdi\n"
     ]
    }
   ],
   "source": [
    "lst=[\"ineuron\",\"anil\",\"barmola\",\"data_scientist\"]\n",
    "lst2=[]\n",
    "for ele in lst:\n",
    "    lst2.append(ele[0])\n",
    "                                                                    \n",
    "print(sorted(lst2))\n",
    "print(''.join(sorted(lst2)))"
   ]
  },
  {
   "cell_type": "markdown",
   "metadata": {},
   "source": [
    "Question4<br>\n",
    "An isogram is a word that has no duplicate letters. Create a function that takes a string and<br>\n",
    "returns either True or False depending on whether or not it&#39;s an &quot;isogram&quot;.<br>\n",
    "Examples<br>\n",
    "is_isogram(&quot;Algorism&quot;) ➞ True<br>\n",
    "is_isogram(&quot;PasSword&quot;) ➞ False<br>\n",
    " Not case sensitive.<br>\n",
    "is_isogram(&quot;Consecutive&quot;) ➞ False<br>"
   ]
  },
  {
   "cell_type": "code",
   "execution_count": 23,
   "metadata": {},
   "outputs": [
    {
     "name": "stdout",
     "output_type": "stream",
     "text": [
      "Algorism ➞ True\n",
      "PasSword ➞ False\n",
      "Consecutive ➞ False\n"
     ]
    }
   ],
   "source": [
    "def is_isogram(in_string):\n",
    "    lower_in_string = in_string.lower()\n",
    "    if len(lower_in_string) == len(set(lower_in_string)):\n",
    "        print(f'{in_string} ➞ {True}')\n",
    "    else:\n",
    "        print(f'{in_string} ➞ {False}')\n",
    "    \n",
    "is_isogram(\"Algorism\")\n",
    "is_isogram(\"PasSword\")\n",
    "is_isogram(\"Consecutive\")"
   ]
  },
  {
   "cell_type": "markdown",
   "metadata": {},
   "source": [
    "Question5<br>\n",
    "Create a function that takes a string and returns True or False, depending on whether the<br>\n",
    "characters are in order or not.<br>\n",
    "Examples<br>\n",
    "is_in_order(&quot;abc&quot;) ➞ True<br>\n",
    "is_in_order(&quot;edabit&quot;) ➞ False<br>\n",
    "is_in_order(&quot;123&quot;) ➞ True<br>\n",
    "is_in_order(&quot;xyzz&quot;) ➞ True"
   ]
  },
  {
   "cell_type": "code",
   "execution_count": 24,
   "metadata": {},
   "outputs": [
    {
     "name": "stdout",
     "output_type": "stream",
     "text": [
      "abc ➞ True\n",
      "edabit ➞ False\n",
      "123 ➞ True\n",
      "xyzz ➞ True\n"
     ]
    }
   ],
   "source": [
    "def is_in_order(in_string):\n",
    "    in_string_sorted = ''.join(sorted(in_string))\n",
    "    if in_string == in_string_sorted:\n",
    "        print(f'{in_string} ➞ {True}')\n",
    "    else:\n",
    "       print(f'{in_string} ➞ {False}')\n",
    "\n",
    "is_in_order(\"abc\")\n",
    "is_in_order(\"edabit\")\n",
    "is_in_order(\"123\")\n",
    "is_in_order(\"xyzz\")"
   ]
  },
  {
   "cell_type": "markdown",
   "metadata": {},
   "source": []
  }
 ],
 "metadata": {
  "kernelspec": {
   "display_name": "Python 3.10.4 64-bit",
   "language": "python",
   "name": "python3"
  },
  "language_info": {
   "codemirror_mode": {
    "name": "ipython",
    "version": 3
   },
   "file_extension": ".py",
   "mimetype": "text/x-python",
   "name": "python",
   "nbconvert_exporter": "python",
   "pygments_lexer": "ipython3",
   "version": "3.10.4"
  },
  "orig_nbformat": 4,
  "vscode": {
   "interpreter": {
    "hash": "26de051ba29f2982a8de78e945f0abaf191376122a1563185a90213a26c5da77"
   }
  }
 },
 "nbformat": 4,
 "nbformat_minor": 2
}
